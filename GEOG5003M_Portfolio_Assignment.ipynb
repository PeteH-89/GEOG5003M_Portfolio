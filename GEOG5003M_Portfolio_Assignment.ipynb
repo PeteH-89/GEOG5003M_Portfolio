{
  "cells": [
    {
      "cell_type": "markdown",
      "metadata": {
        "id": "view-in-github",
        "colab_type": "text"
      },
      "source": [
        "<a href=\"https://colab.research.google.com/github/PeteH-89/GEOG5003M_Portfolio/blob/main/GEOG5003M_Portfolio_Assignment.ipynb\" target=\"_parent\"><img src=\"https://colab.research.google.com/assets/colab-badge.svg\" alt=\"Open In Colab\"/></a>"
      ]
    },
    {
      "cell_type": "markdown",
      "id": "b6c38652-6c0d-4b61-b9a9-f6ea14b1d3e7",
      "metadata": {
        "id": "b6c38652-6c0d-4b61-b9a9-f6ea14b1d3e7"
      },
      "source": [
        "# GEOG5003M Portfolio assignment\n",
        "\n",
        "Student ID number: 201790833\n",
        "\n"
      ]
    },
    {
      "cell_type": "markdown",
      "id": "114c3993-22e1-40e3-b5c5-42d0195b6280",
      "metadata": {
        "id": "114c3993-22e1-40e3-b5c5-42d0195b6280"
      },
      "source": [
        "## Block One Submission\n",
        "Using data introduced in the course create a visualisation showing the association between two variables. Using skills developed in the practical exercises take any steps required to clean or pre-process the data.  It is expected that you wills change the default appearance of the markers and include an appropriate title and axis labels. Further marks will be awarded for appropriate use of colour pallets, inclusion of additional categorical variables in the visualisation and other steps taken to ensure effective data visualisation.\n",
        "\n",
        "Ensure all the code has detialed comments.\n",
        "\n",
        "Write a brief paragraph in markdown (max. 300 words) detailing the visualisation choices made given the types of data you have chosen."
      ]
    },
    {
      "cell_type": "code",
      "source": [
        "from google.colab import drive\n",
        "drive.mount('/content/drive')"
      ],
      "metadata": {
        "id": "pa_PmaPngFka",
        "outputId": "72081041-1271-452c-c35d-a7f681c1d986",
        "colab": {
          "base_uri": "https://localhost:8080/"
        }
      },
      "id": "pa_PmaPngFka",
      "execution_count": 3,
      "outputs": [
        {
          "output_type": "stream",
          "name": "stdout",
          "text": [
            "Mounted at /content/drive\n"
          ]
        }
      ]
    },
    {
      "cell_type": "code",
      "execution_count": 4,
      "id": "97164579-e372-447c-adee-f7dfd40359b4",
      "metadata": {
        "id": "97164579-e372-447c-adee-f7dfd40359b4"
      },
      "outputs": [],
      "source": [
        "# import required packages\n",
        "import pandas as pd\n",
        "import matplotlib.pyplot as plt\n",
        "import seaborn as sns\n",
        "import numpy as np\n",
        "import warnings\n",
        "#set warnings to ignore\n",
        "warnings.filterwarnings(\"ignore\")"
      ]
    },
    {
      "cell_type": "code",
      "execution_count": 19,
      "id": "f6efcf9a-a48e-4e39-8aa0-c29a853971fe",
      "metadata": {
        "id": "f6efcf9a-a48e-4e39-8aa0-c29a853971fe",
        "collapsed": true,
        "outputId": "0005b993-0854-4cf6-9d93-8f2a05d01dbe",
        "colab": {
          "base_uri": "https://localhost:8080/",
          "height": 206
        }
      },
      "outputs": [
        {
          "output_type": "execute_result",
          "data": {
            "text/plain": [
              "  subregion     oaCode      ei_type       pct\n",
              "0     Corby  E00137070  pct_retired  5.387205\n",
              "1     Corby  E00137071  pct_retired  5.479452\n",
              "2     Corby  E00137072  pct_retired  3.214286\n",
              "3     Corby  E00137073  pct_retired  5.517241\n",
              "4     Corby  E00137074  pct_retired  4.593640"
            ],
            "text/html": [
              "\n",
              "  <div id=\"df-95d8b67a-8d82-43ab-8f7c-f9223544becd\" class=\"colab-df-container\">\n",
              "    <div>\n",
              "<style scoped>\n",
              "    .dataframe tbody tr th:only-of-type {\n",
              "        vertical-align: middle;\n",
              "    }\n",
              "\n",
              "    .dataframe tbody tr th {\n",
              "        vertical-align: top;\n",
              "    }\n",
              "\n",
              "    .dataframe thead th {\n",
              "        text-align: right;\n",
              "    }\n",
              "</style>\n",
              "<table border=\"1\" class=\"dataframe\">\n",
              "  <thead>\n",
              "    <tr style=\"text-align: right;\">\n",
              "      <th></th>\n",
              "      <th>subregion</th>\n",
              "      <th>oaCode</th>\n",
              "      <th>ei_type</th>\n",
              "      <th>pct</th>\n",
              "    </tr>\n",
              "  </thead>\n",
              "  <tbody>\n",
              "    <tr>\n",
              "      <th>0</th>\n",
              "      <td>Corby</td>\n",
              "      <td>E00137070</td>\n",
              "      <td>pct_retired</td>\n",
              "      <td>5.387205</td>\n",
              "    </tr>\n",
              "    <tr>\n",
              "      <th>1</th>\n",
              "      <td>Corby</td>\n",
              "      <td>E00137071</td>\n",
              "      <td>pct_retired</td>\n",
              "      <td>5.479452</td>\n",
              "    </tr>\n",
              "    <tr>\n",
              "      <th>2</th>\n",
              "      <td>Corby</td>\n",
              "      <td>E00137072</td>\n",
              "      <td>pct_retired</td>\n",
              "      <td>3.214286</td>\n",
              "    </tr>\n",
              "    <tr>\n",
              "      <th>3</th>\n",
              "      <td>Corby</td>\n",
              "      <td>E00137073</td>\n",
              "      <td>pct_retired</td>\n",
              "      <td>5.517241</td>\n",
              "    </tr>\n",
              "    <tr>\n",
              "      <th>4</th>\n",
              "      <td>Corby</td>\n",
              "      <td>E00137074</td>\n",
              "      <td>pct_retired</td>\n",
              "      <td>4.593640</td>\n",
              "    </tr>\n",
              "  </tbody>\n",
              "</table>\n",
              "</div>\n",
              "    <div class=\"colab-df-buttons\">\n",
              "\n",
              "  <div class=\"colab-df-container\">\n",
              "    <button class=\"colab-df-convert\" onclick=\"convertToInteractive('df-95d8b67a-8d82-43ab-8f7c-f9223544becd')\"\n",
              "            title=\"Convert this dataframe to an interactive table.\"\n",
              "            style=\"display:none;\">\n",
              "\n",
              "  <svg xmlns=\"http://www.w3.org/2000/svg\" height=\"24px\" viewBox=\"0 -960 960 960\">\n",
              "    <path d=\"M120-120v-720h720v720H120Zm60-500h600v-160H180v160Zm220 220h160v-160H400v160Zm0 220h160v-160H400v160ZM180-400h160v-160H180v160Zm440 0h160v-160H620v160ZM180-180h160v-160H180v160Zm440 0h160v-160H620v160Z\"/>\n",
              "  </svg>\n",
              "    </button>\n",
              "\n",
              "  <style>\n",
              "    .colab-df-container {\n",
              "      display:flex;\n",
              "      gap: 12px;\n",
              "    }\n",
              "\n",
              "    .colab-df-convert {\n",
              "      background-color: #E8F0FE;\n",
              "      border: none;\n",
              "      border-radius: 50%;\n",
              "      cursor: pointer;\n",
              "      display: none;\n",
              "      fill: #1967D2;\n",
              "      height: 32px;\n",
              "      padding: 0 0 0 0;\n",
              "      width: 32px;\n",
              "    }\n",
              "\n",
              "    .colab-df-convert:hover {\n",
              "      background-color: #E2EBFA;\n",
              "      box-shadow: 0px 1px 2px rgba(60, 64, 67, 0.3), 0px 1px 3px 1px rgba(60, 64, 67, 0.15);\n",
              "      fill: #174EA6;\n",
              "    }\n",
              "\n",
              "    .colab-df-buttons div {\n",
              "      margin-bottom: 4px;\n",
              "    }\n",
              "\n",
              "    [theme=dark] .colab-df-convert {\n",
              "      background-color: #3B4455;\n",
              "      fill: #D2E3FC;\n",
              "    }\n",
              "\n",
              "    [theme=dark] .colab-df-convert:hover {\n",
              "      background-color: #434B5C;\n",
              "      box-shadow: 0px 1px 3px 1px rgba(0, 0, 0, 0.15);\n",
              "      filter: drop-shadow(0px 1px 2px rgba(0, 0, 0, 0.3));\n",
              "      fill: #FFFFFF;\n",
              "    }\n",
              "  </style>\n",
              "\n",
              "    <script>\n",
              "      const buttonEl =\n",
              "        document.querySelector('#df-95d8b67a-8d82-43ab-8f7c-f9223544becd button.colab-df-convert');\n",
              "      buttonEl.style.display =\n",
              "        google.colab.kernel.accessAllowed ? 'block' : 'none';\n",
              "\n",
              "      async function convertToInteractive(key) {\n",
              "        const element = document.querySelector('#df-95d8b67a-8d82-43ab-8f7c-f9223544becd');\n",
              "        const dataTable =\n",
              "          await google.colab.kernel.invokeFunction('convertToInteractive',\n",
              "                                                    [key], {});\n",
              "        if (!dataTable) return;\n",
              "\n",
              "        const docLinkHtml = 'Like what you see? Visit the ' +\n",
              "          '<a target=\"_blank\" href=https://colab.research.google.com/notebooks/data_table.ipynb>data table notebook</a>'\n",
              "          + ' to learn more about interactive tables.';\n",
              "        element.innerHTML = '';\n",
              "        dataTable['output_type'] = 'display_data';\n",
              "        await google.colab.output.renderOutput(dataTable, element);\n",
              "        const docLink = document.createElement('div');\n",
              "        docLink.innerHTML = docLinkHtml;\n",
              "        element.appendChild(docLink);\n",
              "      }\n",
              "    </script>\n",
              "  </div>\n",
              "\n",
              "\n",
              "    <div id=\"df-be266ce3-d638-438f-b2af-b0622f1fb211\">\n",
              "      <button class=\"colab-df-quickchart\" onclick=\"quickchart('df-be266ce3-d638-438f-b2af-b0622f1fb211')\"\n",
              "                title=\"Suggest charts\"\n",
              "                style=\"display:none;\">\n",
              "\n",
              "<svg xmlns=\"http://www.w3.org/2000/svg\" height=\"24px\"viewBox=\"0 0 24 24\"\n",
              "     width=\"24px\">\n",
              "    <g>\n",
              "        <path d=\"M19 3H5c-1.1 0-2 .9-2 2v14c0 1.1.9 2 2 2h14c1.1 0 2-.9 2-2V5c0-1.1-.9-2-2-2zM9 17H7v-7h2v7zm4 0h-2V7h2v10zm4 0h-2v-4h2v4z\"/>\n",
              "    </g>\n",
              "</svg>\n",
              "      </button>\n",
              "\n",
              "<style>\n",
              "  .colab-df-quickchart {\n",
              "      --bg-color: #E8F0FE;\n",
              "      --fill-color: #1967D2;\n",
              "      --hover-bg-color: #E2EBFA;\n",
              "      --hover-fill-color: #174EA6;\n",
              "      --disabled-fill-color: #AAA;\n",
              "      --disabled-bg-color: #DDD;\n",
              "  }\n",
              "\n",
              "  [theme=dark] .colab-df-quickchart {\n",
              "      --bg-color: #3B4455;\n",
              "      --fill-color: #D2E3FC;\n",
              "      --hover-bg-color: #434B5C;\n",
              "      --hover-fill-color: #FFFFFF;\n",
              "      --disabled-bg-color: #3B4455;\n",
              "      --disabled-fill-color: #666;\n",
              "  }\n",
              "\n",
              "  .colab-df-quickchart {\n",
              "    background-color: var(--bg-color);\n",
              "    border: none;\n",
              "    border-radius: 50%;\n",
              "    cursor: pointer;\n",
              "    display: none;\n",
              "    fill: var(--fill-color);\n",
              "    height: 32px;\n",
              "    padding: 0;\n",
              "    width: 32px;\n",
              "  }\n",
              "\n",
              "  .colab-df-quickchart:hover {\n",
              "    background-color: var(--hover-bg-color);\n",
              "    box-shadow: 0 1px 2px rgba(60, 64, 67, 0.3), 0 1px 3px 1px rgba(60, 64, 67, 0.15);\n",
              "    fill: var(--button-hover-fill-color);\n",
              "  }\n",
              "\n",
              "  .colab-df-quickchart-complete:disabled,\n",
              "  .colab-df-quickchart-complete:disabled:hover {\n",
              "    background-color: var(--disabled-bg-color);\n",
              "    fill: var(--disabled-fill-color);\n",
              "    box-shadow: none;\n",
              "  }\n",
              "\n",
              "  .colab-df-spinner {\n",
              "    border: 2px solid var(--fill-color);\n",
              "    border-color: transparent;\n",
              "    border-bottom-color: var(--fill-color);\n",
              "    animation:\n",
              "      spin 1s steps(1) infinite;\n",
              "  }\n",
              "\n",
              "  @keyframes spin {\n",
              "    0% {\n",
              "      border-color: transparent;\n",
              "      border-bottom-color: var(--fill-color);\n",
              "      border-left-color: var(--fill-color);\n",
              "    }\n",
              "    20% {\n",
              "      border-color: transparent;\n",
              "      border-left-color: var(--fill-color);\n",
              "      border-top-color: var(--fill-color);\n",
              "    }\n",
              "    30% {\n",
              "      border-color: transparent;\n",
              "      border-left-color: var(--fill-color);\n",
              "      border-top-color: var(--fill-color);\n",
              "      border-right-color: var(--fill-color);\n",
              "    }\n",
              "    40% {\n",
              "      border-color: transparent;\n",
              "      border-right-color: var(--fill-color);\n",
              "      border-top-color: var(--fill-color);\n",
              "    }\n",
              "    60% {\n",
              "      border-color: transparent;\n",
              "      border-right-color: var(--fill-color);\n",
              "    }\n",
              "    80% {\n",
              "      border-color: transparent;\n",
              "      border-right-color: var(--fill-color);\n",
              "      border-bottom-color: var(--fill-color);\n",
              "    }\n",
              "    90% {\n",
              "      border-color: transparent;\n",
              "      border-bottom-color: var(--fill-color);\n",
              "    }\n",
              "  }\n",
              "</style>\n",
              "\n",
              "      <script>\n",
              "        async function quickchart(key) {\n",
              "          const quickchartButtonEl =\n",
              "            document.querySelector('#' + key + ' button');\n",
              "          quickchartButtonEl.disabled = true;  // To prevent multiple clicks.\n",
              "          quickchartButtonEl.classList.add('colab-df-spinner');\n",
              "          try {\n",
              "            const charts = await google.colab.kernel.invokeFunction(\n",
              "                'suggestCharts', [key], {});\n",
              "          } catch (error) {\n",
              "            console.error('Error during call to suggestCharts:', error);\n",
              "          }\n",
              "          quickchartButtonEl.classList.remove('colab-df-spinner');\n",
              "          quickchartButtonEl.classList.add('colab-df-quickchart-complete');\n",
              "        }\n",
              "        (() => {\n",
              "          let quickchartButtonEl =\n",
              "            document.querySelector('#df-be266ce3-d638-438f-b2af-b0622f1fb211 button');\n",
              "          quickchartButtonEl.style.display =\n",
              "            google.colab.kernel.accessAllowed ? 'block' : 'none';\n",
              "        })();\n",
              "      </script>\n",
              "    </div>\n",
              "\n",
              "    </div>\n",
              "  </div>\n"
            ],
            "application/vnd.google.colaboratory.intrinsic+json": {
              "type": "dataframe",
              "variable_name": "eifinal",
              "summary": "{\n  \"name\": \"eifinal\",\n  \"rows\": 11155,\n  \"fields\": [\n    {\n      \"column\": \"subregion\",\n      \"properties\": {\n        \"dtype\": \"category\",\n        \"num_unique_values\": 7,\n        \"samples\": [\n          \"Corby\",\n          \"Daventry\",\n          \"South Northamptonshire\"\n        ],\n        \"semantic_type\": \"\",\n        \"description\": \"\"\n      }\n    },\n    {\n      \"column\": \"oaCode\",\n      \"properties\": {\n        \"dtype\": \"category\",\n        \"num_unique_values\": 2231,\n        \"samples\": [\n          \"E00138661\",\n          \"E00138521\",\n          \"E00137566\"\n        ],\n        \"semantic_type\": \"\",\n        \"description\": \"\"\n      }\n    },\n    {\n      \"column\": \"ei_type\",\n      \"properties\": {\n        \"dtype\": \"category\",\n        \"num_unique_values\": 5,\n        \"samples\": [\n          \"pct_student\",\n          \"pct_other\",\n          \"pct_home\"\n        ],\n        \"semantic_type\": \"\",\n        \"description\": \"\"\n      }\n    },\n    {\n      \"column\": \"pct\",\n      \"properties\": {\n        \"dtype\": \"number\",\n        \"std\": 2.2514723960362626,\n        \"min\": 0.0,\n        \"max\": 23.96694214876033,\n        \"num_unique_values\": 2763,\n        \"samples\": [\n          4.761904761904762,\n          2.9940119760479043,\n          0.8032128514056224\n        ],\n        \"semantic_type\": \"\",\n        \"description\": \"\"\n      }\n    }\n  ]\n}"
            }
          },
          "metadata": {},
          "execution_count": 19
        }
      ],
      "source": [
        "# Data-preprocessing\n",
        "oa=pd.read_csv('/content/drive/MyDrive/OA_GEOG990M_data.csv')\n",
        "#subset for only data within northamptonshire\n",
        "northamptonshire=(oa.loc[(oa['SUB_REGION']=='Kettering')|(oa['SUB_REGION']=='Corby')|(oa['SUB_REGION']=='East Northamptonshire')|(oa['SUB_REGION']=='Wellingborough')|(oa['SUB_REGION']=='Daventry')|(oa['SUB_REGION']=='Northampton')|(oa['SUB_REGION']=='South Northamptonshire')])\n",
        "#use .info() to see the dataset\n",
        "#northamptonshire.info()\n",
        "#column names are pretty unwieldy, they could be tidied up a bit\n",
        "northamptonshire.columns = ['id', 'oaCode', 'pop', 'males', 'females', 'output_area', 'vulnerability', 'vulnerability_cluster', 'oa_code', 'subregion', 'region', 'total_residents', 'sup_grp_code', 'grp_code', 'sub_grp_code',\n",
        "                        'sup_grp_name', 'grp_name', 'sub_grp_name', 'merge', 'ea_pct', 'ea_employed', 'ea_unemployed', 'ea_student', 'ei_pct', 'ei_retired', 'ei_student', 'ei_home_fam', 'ei_disabled', 'ei_other', 'oa_2011']\n",
        "#drop the duplicated population column, region and 2011 output area is unncessary here also.\n",
        "northants=pd.DataFrame(northamptonshire).drop(columns=['total_residents','region','oa_2011'])\n",
        "#check for null data\n",
        "#northants.isna().sum()\n",
        "#create list of ei categories, change to integer\n",
        "ei_cat=['ei_retired', 'ei_student', 'ei_home_fam', 'ei_disabled', 'ei_other']\n",
        "northants[ei_cat]=northants[ei_cat].astype(int)\n",
        "#we want to see the variations in economic activity type by former district/borough. as there are significant differences in populations it is better to check the rate rather than the raw quantities\n",
        "#create a dataframe that has the pct of each EI category for each oa\n",
        "eiraw=northants[['oaCode', 'pop', 'subregion', 'ei_pct', 'ei_retired', 'ei_student', 'ei_home_fam', 'ei_disabled', 'ei_other']]\n",
        "eiraw=pd.DataFrame(eiraw)\n",
        "#insert new columns into dataframe for the pct of each ei type\n",
        "for category in ei_cat:\n",
        "    pct_col_name='pct_'+category.split('_')[1]\n",
        "    eiraw[pct_col_name]=(eiraw[category]/eiraw['pop'])*100\n",
        "#eiraw.info()\n",
        "#now pivot them so that we can visualise multiple varialbles in one\n",
        "cat_pct=['pct_retired', 'pct_student', 'pct_home', 'pct_disabled', 'pct_other']\n",
        "eifinal=pd.DataFrame(eiraw.melt(id_vars=['subregion', 'oaCode'], value_vars=cat_pct, var_name='ei_type', value_name='pct'))\n",
        "#eifinal.head()"
      ]
    },
    {
      "cell_type": "code",
      "execution_count": null,
      "id": "15a393cb-8742-4e67-9758-b3ab0684dc50",
      "metadata": {
        "id": "15a393cb-8742-4e67-9758-b3ab0684dc50",
        "outputId": "3b34d89f-7123-4e01-a806-587f8a32bf00",
        "colab": {
          "base_uri": "https://localhost:8080/"
        }
      },
      "outputs": [
        {
          "output_type": "execute_result",
          "data": {
            "text/plain": [
              "<Axes: xlabel='subregion', ylabel='pct'>"
            ]
          },
          "metadata": {},
          "execution_count": 21
        }
      ],
      "source": [
        "# Data Visualisation\n",
        "sns.swarmplot(data=eifinal, x='subregion', y='pct', hue='ei_type')"
      ]
    },
    {
      "cell_type": "markdown",
      "id": "f6d7e339-ae17-4d7f-9baf-9e472cfaa3e4",
      "metadata": {
        "id": "f6d7e339-ae17-4d7f-9baf-9e472cfaa3e4"
      },
      "source": [
        "### Block One Submission\n",
        "Edit this celll to include a brief paragraph (max. 300 words) detailing the visualisation choices made given the types of data you have chosen.\n",
        "\n",
        "\n",
        "\n",
        "\n",
        "\n",
        "\n",
        "\n",
        "\n",
        "\n",
        "\n",
        "\n",
        "    "
      ]
    },
    {
      "cell_type": "markdown",
      "id": "21e6cb5e-fb5f-45b0-aa50-edc17c566c70",
      "metadata": {
        "id": "21e6cb5e-fb5f-45b0-aa50-edc17c566c70"
      },
      "source": [
        "## Block Two Submission:\n",
        "\n",
        "Using the course notebooks and lectures as a guide create a static visualisation showing the spatial distribution of a variable of your choice. The type of spatial visualisation chosen should be suitable for the data chosen and appropriate data cleaning and pre-processing steps undertaken. Using skills demonstrated in the python notebooks change the default appearance of the visualisation of choice. Include an appropriate title and legend labels. Further marks will be awarded for appropriate use of colour pallets and other customisations to aid interpretation and improve accessibility. Write a brief paragraph in markdown (max 300 words) detailing the visual design choices made."
      ]
    },
    {
      "cell_type": "code",
      "execution_count": null,
      "id": "77554197-aa45-4fd1-b8f0-eb397ed429ef",
      "metadata": {
        "id": "77554197-aa45-4fd1-b8f0-eb397ed429ef"
      },
      "outputs": [],
      "source": [
        "# import any further required packages"
      ]
    },
    {
      "cell_type": "code",
      "execution_count": null,
      "id": "9bafa31e-4436-48d4-af56-18e326e71cbd",
      "metadata": {
        "id": "9bafa31e-4436-48d4-af56-18e326e71cbd"
      },
      "outputs": [],
      "source": [
        "# Data-preprocessing"
      ]
    },
    {
      "cell_type": "code",
      "execution_count": null,
      "id": "fc4fb576-4390-4366-b4bf-9a2f60bba71b",
      "metadata": {
        "id": "fc4fb576-4390-4366-b4bf-9a2f60bba71b"
      },
      "outputs": [],
      "source": [
        "# Data Visualisation"
      ]
    },
    {
      "cell_type": "markdown",
      "id": "5e7f93b1-85e8-44f4-b505-f7f40652f377",
      "metadata": {
        "id": "5e7f93b1-85e8-44f4-b505-f7f40652f377"
      },
      "source": [
        "### Block Two Submission\n",
        "Edit this celll to include a brief paragraph (max. 300 words) detailing the spatial data visualisation choices made given the types of data you have chosen.\n",
        "\n",
        "\n",
        "\n",
        "\n",
        "\n"
      ]
    },
    {
      "cell_type": "code",
      "execution_count": null,
      "id": "5f0704da-b159-4033-8b5e-a596b92ffeaa",
      "metadata": {
        "id": "5f0704da-b159-4033-8b5e-a596b92ffeaa"
      },
      "outputs": [],
      "source": []
    },
    {
      "cell_type": "markdown",
      "id": "76b191d0",
      "metadata": {
        "id": "76b191d0"
      },
      "source": [
        "## Acknowledgements\n",
        "\n",
        "The use of Gen AI must be acknowledged in an ‘Acknowledgements’ section of any piece of academic work where it has been used as a functional tool to assist in the process of creating academic work.\n",
        "If it is suspected that you have used a Gen AI tool to produce part of your work, but you have not acknowledged this use, this could be investigated under the Academic Misconduct procedure.\n",
        "The minimum requirement to include in acknowledgement:\n",
        "- Name and version of the generative AI system used eg ChatGPT-4.0\n",
        "- Publisher (company that made the AI system) eg OpenAI\n",
        "- URL of the AI system\n",
        "- Brief description (single sentence) of context in which the tool was used.\n",
        "\n",
        "For example: “I acknowledge the use of ChatGPT-3.5 (Open AI, https://chat.openai.com/) to support development of code to generate legend headings and support formatting of figures”\n",
        "In the code state:  Prompt: write some python code using the Geopandas package to add a legend title for a colour bar”\n",
        "\n",
        "For example: “I acknowledge the use of Co-pilot (Microsoft https://chat.openai.com/ Accessed 2025-4-03) to support debugging errors as identified in the code, Prompt: Help debug this error {ERROR MESSAGE} genrated while using the geopandas package”"
      ]
    },
    {
      "cell_type": "markdown",
      "id": "f0e14675",
      "metadata": {
        "id": "f0e14675"
      },
      "source": []
    }
  ],
  "metadata": {
    "kernelspec": {
      "display_name": "Python 3 (ipykernel)",
      "language": "python",
      "name": "python3"
    },
    "language_info": {
      "codemirror_mode": {
        "name": "ipython",
        "version": 3
      },
      "file_extension": ".py",
      "mimetype": "text/x-python",
      "name": "python",
      "nbconvert_exporter": "python",
      "pygments_lexer": "ipython3",
      "version": "3.11.7"
    },
    "colab": {
      "provenance": [],
      "include_colab_link": true
    }
  },
  "nbformat": 4,
  "nbformat_minor": 5
}