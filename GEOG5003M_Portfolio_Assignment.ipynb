{
  "cells": [
    {
      "cell_type": "markdown",
      "metadata": {
        "id": "view-in-github",
        "colab_type": "text"
      },
      "source": [
        "<a href=\"https://colab.research.google.com/github/PeteH-89/GEOG5003M_Portfolio/blob/main/GEOG5003M_Portfolio_Assignment.ipynb\" target=\"_parent\"><img src=\"https://colab.research.google.com/assets/colab-badge.svg\" alt=\"Open In Colab\"/></a>"
      ]
    },
    {
      "cell_type": "markdown",
      "id": "b6c38652-6c0d-4b61-b9a9-f6ea14b1d3e7",
      "metadata": {
        "id": "b6c38652-6c0d-4b61-b9a9-f6ea14b1d3e7"
      },
      "source": [
        "# GEOG5003M Portfolio assignment\n",
        "\n",
        "Student ID number: 201790833\n",
        "\n"
      ]
    },
    {
      "cell_type": "markdown",
      "id": "114c3993-22e1-40e3-b5c5-42d0195b6280",
      "metadata": {
        "id": "114c3993-22e1-40e3-b5c5-42d0195b6280"
      },
      "source": [
        "## Block One Submission\n",
        "Using data introduced in the course create a visualisation showing the association between two variables. Using skills developed in the practical exercises take any steps required to clean or pre-process the data.  It is expected that you wills change the default appearance of the markers and include an appropriate title and axis labels. Further marks will be awarded for appropriate use of colour pallets, inclusion of additional categorical variables in the visualisation and other steps taken to ensure effective data visualisation.\n",
        "\n",
        "Ensure all the code has detialed comments.\n",
        "\n",
        "Write a brief paragraph in markdown (max. 300 words) detailing the visualisation choices made given the types of data you have chosen."
      ]
    },
    {
      "cell_type": "code",
      "execution_count": 1,
      "id": "97164579-e372-447c-adee-f7dfd40359b4",
      "metadata": {
        "id": "97164579-e372-447c-adee-f7dfd40359b4"
      },
      "outputs": [],
      "source": [
        "# import required packages\n",
        "import pandas as pd\n",
        "import matplotlib.pyplot as plt\n",
        "import seaborn as sns\n",
        "import numpy as np\n",
        "import warnings\n",
        "#set warnings to ignore\n",
        "warnings.filterwarnings(\"ignore\")"
      ]
    },
    {
      "cell_type": "code",
      "execution_count": 52,
      "id": "f6efcf9a-a48e-4e39-8aa0-c29a853971fe",
      "metadata": {
        "id": "f6efcf9a-a48e-4e39-8aa0-c29a853971fe",
        "collapsed": true,
        "outputId": "21389fc6-c5cb-47e0-a446-bd819dd4ace8",
        "colab": {
          "base_uri": "https://localhost:8080/",
          "height": 931
        }
      },
      "outputs": [
        {
          "output_type": "execute_result",
          "data": {
            "text/plain": [
              "id                       0\n",
              "area                     0\n",
              "pop                      0\n",
              "males                    0\n",
              "females                  0\n",
              "output_area              0\n",
              "vulnerability            0\n",
              "vulnerability_cluster    0\n",
              "oa_code                  0\n",
              "subregion                0\n",
              "sup_grp_code             0\n",
              "grp_code                 0\n",
              "sub_grp_code             0\n",
              "sup_grp_name             0\n",
              "grp_name                 0\n",
              "sub_grp_name             0\n",
              "merge                    0\n",
              "ea_pct                   0\n",
              "ea_employed              0\n",
              "ea_unemployed            0\n",
              "ea_student               0\n",
              "ei_pct                   0\n",
              "ei_retired               0\n",
              "ei_student               0\n",
              "ei_home_fam              0\n",
              "ei_disabled              0\n",
              "ei_other                 0\n",
              "dtype: int64"
            ],
            "text/html": [
              "<div>\n",
              "<style scoped>\n",
              "    .dataframe tbody tr th:only-of-type {\n",
              "        vertical-align: middle;\n",
              "    }\n",
              "\n",
              "    .dataframe tbody tr th {\n",
              "        vertical-align: top;\n",
              "    }\n",
              "\n",
              "    .dataframe thead th {\n",
              "        text-align: right;\n",
              "    }\n",
              "</style>\n",
              "<table border=\"1\" class=\"dataframe\">\n",
              "  <thead>\n",
              "    <tr style=\"text-align: right;\">\n",
              "      <th></th>\n",
              "      <th>0</th>\n",
              "    </tr>\n",
              "  </thead>\n",
              "  <tbody>\n",
              "    <tr>\n",
              "      <th>id</th>\n",
              "      <td>0</td>\n",
              "    </tr>\n",
              "    <tr>\n",
              "      <th>area</th>\n",
              "      <td>0</td>\n",
              "    </tr>\n",
              "    <tr>\n",
              "      <th>pop</th>\n",
              "      <td>0</td>\n",
              "    </tr>\n",
              "    <tr>\n",
              "      <th>males</th>\n",
              "      <td>0</td>\n",
              "    </tr>\n",
              "    <tr>\n",
              "      <th>females</th>\n",
              "      <td>0</td>\n",
              "    </tr>\n",
              "    <tr>\n",
              "      <th>output_area</th>\n",
              "      <td>0</td>\n",
              "    </tr>\n",
              "    <tr>\n",
              "      <th>vulnerability</th>\n",
              "      <td>0</td>\n",
              "    </tr>\n",
              "    <tr>\n",
              "      <th>vulnerability_cluster</th>\n",
              "      <td>0</td>\n",
              "    </tr>\n",
              "    <tr>\n",
              "      <th>oa_code</th>\n",
              "      <td>0</td>\n",
              "    </tr>\n",
              "    <tr>\n",
              "      <th>subregion</th>\n",
              "      <td>0</td>\n",
              "    </tr>\n",
              "    <tr>\n",
              "      <th>sup_grp_code</th>\n",
              "      <td>0</td>\n",
              "    </tr>\n",
              "    <tr>\n",
              "      <th>grp_code</th>\n",
              "      <td>0</td>\n",
              "    </tr>\n",
              "    <tr>\n",
              "      <th>sub_grp_code</th>\n",
              "      <td>0</td>\n",
              "    </tr>\n",
              "    <tr>\n",
              "      <th>sup_grp_name</th>\n",
              "      <td>0</td>\n",
              "    </tr>\n",
              "    <tr>\n",
              "      <th>grp_name</th>\n",
              "      <td>0</td>\n",
              "    </tr>\n",
              "    <tr>\n",
              "      <th>sub_grp_name</th>\n",
              "      <td>0</td>\n",
              "    </tr>\n",
              "    <tr>\n",
              "      <th>merge</th>\n",
              "      <td>0</td>\n",
              "    </tr>\n",
              "    <tr>\n",
              "      <th>ea_pct</th>\n",
              "      <td>0</td>\n",
              "    </tr>\n",
              "    <tr>\n",
              "      <th>ea_employed</th>\n",
              "      <td>0</td>\n",
              "    </tr>\n",
              "    <tr>\n",
              "      <th>ea_unemployed</th>\n",
              "      <td>0</td>\n",
              "    </tr>\n",
              "    <tr>\n",
              "      <th>ea_student</th>\n",
              "      <td>0</td>\n",
              "    </tr>\n",
              "    <tr>\n",
              "      <th>ei_pct</th>\n",
              "      <td>0</td>\n",
              "    </tr>\n",
              "    <tr>\n",
              "      <th>ei_retired</th>\n",
              "      <td>0</td>\n",
              "    </tr>\n",
              "    <tr>\n",
              "      <th>ei_student</th>\n",
              "      <td>0</td>\n",
              "    </tr>\n",
              "    <tr>\n",
              "      <th>ei_home_fam</th>\n",
              "      <td>0</td>\n",
              "    </tr>\n",
              "    <tr>\n",
              "      <th>ei_disabled</th>\n",
              "      <td>0</td>\n",
              "    </tr>\n",
              "    <tr>\n",
              "      <th>ei_other</th>\n",
              "      <td>0</td>\n",
              "    </tr>\n",
              "  </tbody>\n",
              "</table>\n",
              "</div><br><label><b>dtype:</b> int64</label>"
            ]
          },
          "metadata": {},
          "execution_count": 52
        }
      ],
      "source": [
        "# Data-preprocessing\n",
        "oa=pd.read_csv('/content/drive/MyDrive/OA_GEOG990M_data.csv')\n",
        "#subset for only data within northamptonshire\n",
        "northamptonshire=(oa.loc[(oa['SUB_REGION']=='Kettering')|(oa['SUB_REGION']=='Corby')|(oa['SUB_REGION']=='East Northamptonshire')|(oa['SUB_REGION']=='Wellingborough')|(oa['SUB_REGION']=='Daventry')|(oa['SUB_REGION']=='Northampton')|(oa['SUB_REGION']=='South Northamptonshire')])\n",
        "#use .info() to see the dataset\n",
        "#northamptonshire.info()\n",
        "#column names are pretty unwieldy, they could be tidied up a bit\n",
        "northamptonshire.columns = ['id', 'area', 'pop', 'males', 'females', 'output_area', 'vulnerability', 'vulnerability_cluster', 'oa_code', 'subregion', 'region', 'total_residents', 'sup_grp_code', 'grp_code', 'sub_grp_code',\n",
        "                        'sup_grp_name', 'grp_name', 'sub_grp_name', 'merge', 'ea_pct', 'ea_employed', 'ea_unemployed', 'ea_student', 'ei_pct', 'ei_retired', 'ei_student', 'ei_home_fam', 'ei_disabled', 'ei_other', 'oa_2011']\n",
        "#drop the duplicated population column, region and 2011 output area is unncessary here also.\n",
        "northants=pd.DataFrame(northamptonshire).drop(columns=['total_residents','region','oa_2011'])\n",
        "#check for null data\n",
        "#northants.isna().sum()"
      ]
    },
    {
      "cell_type": "code",
      "execution_count": null,
      "id": "15a393cb-8742-4e67-9758-b3ab0684dc50",
      "metadata": {
        "id": "15a393cb-8742-4e67-9758-b3ab0684dc50"
      },
      "outputs": [],
      "source": [
        "# Data visualisation"
      ]
    },
    {
      "cell_type": "markdown",
      "id": "f6d7e339-ae17-4d7f-9baf-9e472cfaa3e4",
      "metadata": {
        "id": "f6d7e339-ae17-4d7f-9baf-9e472cfaa3e4"
      },
      "source": [
        "### Block One Submission\n",
        "Edit this celll to include a brief paragraph (max. 300 words) detailing the visualisation choices made given the types of data you have chosen.\n",
        "\n",
        "\n",
        "\n",
        "\n",
        "\n",
        "\n",
        "\n",
        "\n",
        "\n",
        "\n",
        "\n",
        "    "
      ]
    },
    {
      "cell_type": "markdown",
      "id": "21e6cb5e-fb5f-45b0-aa50-edc17c566c70",
      "metadata": {
        "id": "21e6cb5e-fb5f-45b0-aa50-edc17c566c70"
      },
      "source": [
        "## Block Two Submission:\n",
        "\n",
        "Using the course notebooks and lectures as a guide create a static visualisation showing the spatial distribution of a variable of your choice. The type of spatial visualisation chosen should be suitable for the data chosen and appropriate data cleaning and pre-processing steps undertaken. Using skills demonstrated in the python notebooks change the default appearance of the visualisation of choice. Include an appropriate title and legend labels. Further marks will be awarded for appropriate use of colour pallets and other customisations to aid interpretation and improve accessibility. Write a brief paragraph in markdown (max 300 words) detailing the visual design choices made."
      ]
    },
    {
      "cell_type": "code",
      "execution_count": null,
      "id": "77554197-aa45-4fd1-b8f0-eb397ed429ef",
      "metadata": {
        "id": "77554197-aa45-4fd1-b8f0-eb397ed429ef"
      },
      "outputs": [],
      "source": [
        "# import any further required packages"
      ]
    },
    {
      "cell_type": "code",
      "execution_count": null,
      "id": "9bafa31e-4436-48d4-af56-18e326e71cbd",
      "metadata": {
        "id": "9bafa31e-4436-48d4-af56-18e326e71cbd"
      },
      "outputs": [],
      "source": [
        "# Data-preprocessing"
      ]
    },
    {
      "cell_type": "code",
      "execution_count": null,
      "id": "fc4fb576-4390-4366-b4bf-9a2f60bba71b",
      "metadata": {
        "id": "fc4fb576-4390-4366-b4bf-9a2f60bba71b"
      },
      "outputs": [],
      "source": [
        "# Data Visualisation"
      ]
    },
    {
      "cell_type": "markdown",
      "id": "5e7f93b1-85e8-44f4-b505-f7f40652f377",
      "metadata": {
        "id": "5e7f93b1-85e8-44f4-b505-f7f40652f377"
      },
      "source": [
        "### Block Two Submission\n",
        "Edit this celll to include a brief paragraph (max. 300 words) detailing the spatial data visualisation choices made given the types of data you have chosen.\n",
        "\n",
        "\n",
        "\n",
        "\n",
        "\n"
      ]
    },
    {
      "cell_type": "code",
      "execution_count": null,
      "id": "5f0704da-b159-4033-8b5e-a596b92ffeaa",
      "metadata": {
        "id": "5f0704da-b159-4033-8b5e-a596b92ffeaa"
      },
      "outputs": [],
      "source": []
    },
    {
      "cell_type": "markdown",
      "id": "76b191d0",
      "metadata": {
        "id": "76b191d0"
      },
      "source": [
        "## Acknowledgements\n",
        "\n",
        "The use of Gen AI must be acknowledged in an ‘Acknowledgements’ section of any piece of academic work where it has been used as a functional tool to assist in the process of creating academic work.\n",
        "If it is suspected that you have used a Gen AI tool to produce part of your work, but you have not acknowledged this use, this could be investigated under the Academic Misconduct procedure.\n",
        "The minimum requirement to include in acknowledgement:\n",
        "- Name and version of the generative AI system used eg ChatGPT-4.0\n",
        "- Publisher (company that made the AI system) eg OpenAI\n",
        "- URL of the AI system\n",
        "- Brief description (single sentence) of context in which the tool was used.\n",
        "\n",
        "For example: “I acknowledge the use of ChatGPT-3.5 (Open AI, https://chat.openai.com/) to support development of code to generate legend headings and support formatting of figures”\n",
        "In the code state:  Prompt: write some python code using the Geopandas package to add a legend title for a colour bar”\n",
        "\n",
        "For example: “I acknowledge the use of Co-pilot (Microsoft https://chat.openai.com/ Accessed 2025-4-03) to support debugging errors as identified in the code, Prompt: Help debug this error {ERROR MESSAGE} genrated while using the geopandas package”"
      ]
    },
    {
      "cell_type": "markdown",
      "id": "f0e14675",
      "metadata": {
        "id": "f0e14675"
      },
      "source": []
    }
  ],
  "metadata": {
    "kernelspec": {
      "display_name": "Python 3 (ipykernel)",
      "language": "python",
      "name": "python3"
    },
    "language_info": {
      "codemirror_mode": {
        "name": "ipython",
        "version": 3
      },
      "file_extension": ".py",
      "mimetype": "text/x-python",
      "name": "python",
      "nbconvert_exporter": "python",
      "pygments_lexer": "ipython3",
      "version": "3.11.7"
    },
    "colab": {
      "provenance": [],
      "toc_visible": true,
      "include_colab_link": true
    }
  },
  "nbformat": 4,
  "nbformat_minor": 5
}